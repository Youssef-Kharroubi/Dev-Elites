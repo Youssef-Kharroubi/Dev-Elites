{
 "cells": [
  {
   "cell_type": "code",
   "execution_count": 23,
   "id": "270b81e4",
   "metadata": {},
   "outputs": [
    {
     "name": "stdout",
     "output_type": "stream",
     "text": [
      "Patient data successfully saved to Cosmos DB with auto-generated ID.\n"
     ]
    }
   ],
   "source": [
    "from azure.cosmos import CosmosClient, PartitionKey\n",
    "import json \n",
    "\n",
    "url = \"https://insuredpatients.documents.azure.com:443/\"\n",
    "key = \"AQFk1movQza5orCTnBNi1ZlOBTZPiGp0gTMSLEZOLXtXxYp4EKlGLMyor7VCZivXJIeZCGOgjq6vACDbqbsyLQ==\"\n",
    "\n",
    "client = CosmosClient(url, credential=key)\n",
    "\n",
    "database_name = 'cosmicworks'\n",
    "container_name = 'products'\n",
    "\n",
    "database = client.get_database_client(database_name)\n",
    "container = database.get_container_client(container_name)\n",
    "\n",
    "with open('cropped_fields/extracted_text.json', 'r') as file:\n",
    "    item = json.load(file)\n",
    "\n",
    "item[\"category\"] = \"text_data\"\n",
    "\n",
    "container.create_item(body=item, enable_automatic_id_generation=True)\n",
    "\n",
    "print(\"Patient data successfully saved to Cosmos DB with auto-generated ID.\")\n"
   ]
  },
  {
   "cell_type": "code",
   "execution_count": 33,
   "id": "e4e667eb",
   "metadata": {},
   "outputs": [
    {
     "name": "stdout",
     "output_type": "stream",
     "text": [
      "Encrypted and saved new item.\n"
     ]
    }
   ],
   "source": [
    "from azure.cosmos import CosmosClient\n",
    "from cryptography.fernet import Fernet\n",
    "import json\n",
    "\n",
    "url = \"https://insuredpatients.documents.azure.com:443/\"\n",
    "key = \"AQFk1movQza5orCTnBNi1ZlOBTZPiGp0gTMSLEZOLXtXxYp4EKlGLMyor7VCZivXJIeZCGOgjq6vACDbqbsyLQ==\"\n",
    "\n",
    "with open(\"fernet.key\", \"rb\") as f:\n",
    "    fernet_key = f.read()\n",
    "\n",
    "cipher = Fernet(fernet_key)\n",
    "\n",
    "client = CosmosClient(url, credential=key)\n",
    "\n",
    "database_name = 'cosmicworks'\n",
    "container_name = 'products'\n",
    "database = client.get_database_client(database_name)\n",
    "container = database.get_container_client(container_name)\n",
    "\n",
    "with open(\"cropped_fields/extracted_text.json\", \"r\") as file:\n",
    "    data = json.load(file)\n",
    "\n",
    "encrypted = cipher.encrypt(json.dumps(data).encode()).decode()\n",
    "\n",
    "container.create_item(\n",
    "    body={\"category\": \"text_data\", \"encrypted_data\": encrypted},\n",
    "    enable_automatic_id_generation=True\n",
    ")\n",
    "\n",
    "print(\"Encrypted and saved new item.\")"
   ]
  },
  {
   "cell_type": "code",
   "execution_count": 34,
   "id": "b18ec73c",
   "metadata": {},
   "outputs": [
    {
     "name": "stdout",
     "output_type": "stream",
     "text": [
      "{'cin_passport_subscriber': '04026240', 'patient_name': 'Abderrazek Mouhamed', 'subscriber_name': 'Abderazak Braham', 'subscriber_address': 'Ariana'}\n",
      "{'cin_passport_subscriber': '12345678', 'patient_name': 'Warda Warda', 'subscriber_name': 'Abderazak Braham', 'subscriber_address': 'Sousse'}\n",
      "{'cin_passport_subscriber': '12345678', 'patient_name': 'Warda Warda', 'subscriber_name': 'Warda Braham', 'subscriber_address': 'Sousse'}\n",
      "{'cin_passport_subscriber': '98765432', 'patient_name': 'Mohamed Mouhamed', 'subscriber_name': 'Abderazak Braham', 'subscriber_address': 'Sfax'}\n"
     ]
    }
   ],
   "source": [
    "from azure.cosmos import CosmosClient\n",
    "from cryptography.fernet import Fernet, InvalidToken\n",
    "import json\n",
    "\n",
    "url = \"https://insuredpatients.documents.azure.com:443/\"\n",
    "key = \"AQFk1movQza5orCTnBNi1ZlOBTZPiGp0gTMSLEZOLXtXxYp4EKlGLMyor7VCZivXJIeZCGOgjq6vACDbqbsyLQ==\"\n",
    "\n",
    "with open(\"fernet.key\", \"rb\") as f:\n",
    "    fernet_key = f.read()\n",
    "\n",
    "cipher = Fernet(fernet_key)\n",
    "\n",
    "client = CosmosClient(url, credential=key)\n",
    "\n",
    "database_name = 'cosmicworks'\n",
    "container_name = 'products'\n",
    "\n",
    "database = client.get_database_client(database_name)\n",
    "container = database.get_container_client(container_name)\n",
    "\n",
    "query = \"SELECT * FROM c WHERE c.category = 'text_data'\"\n",
    "items = list(container.query_items(query=query, enable_cross_partition_query=True))\n",
    "    \n",
    "for item in items:\n",
    "    encrypted = item.get('encrypted_data')\n",
    "    if encrypted:\n",
    "        try:\n",
    "            decrypted_data = cipher.decrypt(encrypted.encode()).decode()\n",
    "            print(json.loads(decrypted_data))\n",
    "        except InvalidToken:\n",
    "            print(f\"Skipped invalid encrypted data for item ID: {item.get('id')}\")\n"
   ]
  },
  {
   "cell_type": "markdown",
   "id": "0473bdd3",
   "metadata": {},
   "source": [
    "## PowerBI"
   ]
  },
  {
   "cell_type": "code",
   "execution_count": 36,
   "id": "f1292447",
   "metadata": {},
   "outputs": [
    {
     "name": "stdout",
     "output_type": "stream",
     "text": [
      "Decrypted data saved to insuredpatients_data.csv\n"
     ]
    }
   ],
   "source": [
    "from azure.cosmos import CosmosClient\n",
    "from cryptography.fernet import Fernet, InvalidToken\n",
    "import json\n",
    "import csv\n",
    "\n",
    "url = \"https://insuredpatients.documents.azure.com:443/\"\n",
    "key = \"AQFk1movQza5orCTnBNi1ZlOBTZPiGp0gTMSLEZOLXtXxYp4EKlGLMyor7VCZivXJIeZCGOgjq6vACDbqbsyLQ==\"\n",
    "\n",
    "with open(\"fernet.key\", \"rb\") as f:\n",
    "    fernet_key = f.read()\n",
    "\n",
    "cipher = Fernet(fernet_key)\n",
    "\n",
    "client = CosmosClient(url, credential=key)\n",
    "database_name = 'cosmicworks'\n",
    "container_name = 'products'\n",
    "\n",
    "database = client.get_database_client(database_name)\n",
    "container = database.get_container_client(container_name)\n",
    "\n",
    "query = \"SELECT * FROM c WHERE c.category = 'text_data'\"\n",
    "items = list(container.query_items(query=query, enable_cross_partition_query=True))\n",
    "\n",
    "csv_filename = \"insuredpatients_data.csv\"\n",
    "with open(csv_filename, 'w', newline='', encoding='utf-8-sig') as csvfile:\n",
    "    fieldnames = ['cin_passport_subscriber', 'patient_name', 'subscriber_name', 'subscriber_address']\n",
    "    writer = csv.DictWriter(csvfile, fieldnames=fieldnames)\n",
    "\n",
    "    writer.writeheader()  \n",
    "    \n",
    "    for item in items:\n",
    "        if 'encrypted_data' in item:\n",
    "            encrypted_data = item['encrypted_data']\n",
    "            try:\n",
    "                decrypted_data = cipher.decrypt(encrypted_data.encode()).decode()\n",
    "                decrypted_json = json.loads(decrypted_data)\n",
    "\n",
    "                writer.writerow({\n",
    "                    'cin_passport_subscriber': decrypted_json.get('cin_passport_subscriber', ''),\n",
    "                    'patient_name': decrypted_json.get('patient_name', ''),\n",
    "                    'subscriber_name': decrypted_json.get('subscriber_name', ''),\n",
    "                    'subscriber_address': decrypted_json.get('subscriber_address', '')\n",
    "                })\n",
    "            except InvalidToken:\n",
    "                print(f\"Skipping invalid encrypted data for item ID: {item.get('id')}\")\n",
    "        else:\n",
    "            print(f\"No encrypted data found for item ID: {item.get('id')}\")\n",
    "\n",
    "print(f\"Decrypted data saved to {csv_filename}\")\n"
   ]
  },
  {
   "cell_type": "code",
   "execution_count": null,
   "id": "57c48709",
   "metadata": {},
   "outputs": [],
   "source": []
  }
 ],
 "metadata": {
  "kernelspec": {
   "display_name": "Python 3 (ipykernel)",
   "language": "python",
   "name": "python3"
  },
  "language_info": {
   "codemirror_mode": {
    "name": "ipython",
    "version": 3
   },
   "file_extension": ".py",
   "mimetype": "text/x-python",
   "name": "python",
   "nbconvert_exporter": "python",
   "pygments_lexer": "ipython3",
   "version": "3.11.5"
  }
 },
 "nbformat": 4,
 "nbformat_minor": 5
}
