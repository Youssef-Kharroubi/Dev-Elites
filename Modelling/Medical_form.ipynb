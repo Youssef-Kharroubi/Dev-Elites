{
 "cells": [
  {
   "cell_type": "code",
   "execution_count": 1,
   "id": "6a5f5041-47c0-4aec-a37f-7edd307938ff",
   "metadata": {
    "scrolled": true
   },
   "outputs": [
    {
     "name": "stderr",
     "output_type": "stream",
     "text": [
      "C:\\Users\\User\\anaconda3\\envs\\medical_form\\lib\\site-packages\\tqdm\\auto.py:21: TqdmWarning: IProgress not found. Please update jupyter and ipywidgets. See https://ipywidgets.readthedocs.io/en/stable/user_install.html\n",
      "  from .autonotebook import tqdm as notebook_tqdm\n"
     ]
    }
   ],
   "source": [
    "import cv2\n",
    "from transformers import TrOCRProcessor, VisionEncoderDecoderModel\n",
    "import torch\n",
    "from PIL import Image\n",
    "import json\n",
    "import os\n",
    "import re\n",
    "import easyocr"
   ]
  },
  {
   "cell_type": "markdown",
   "id": "f2947a7a-1228-45fb-bd08-1e5313d16ae7",
   "metadata": {},
   "source": [
    "## after fine-tunnig YOLOv8 model we are going to extract text using the bounding boxes predicted"
   ]
  },
  {
   "cell_type": "markdown",
   "id": "ed26d876-b8bb-4abf-b0e8-badaa0adfae9",
   "metadata": {},
   "source": [
    "## loading fine tuned model and creating the class names to be predicted as bounding box "
   ]
  },
  {
   "cell_type": "code",
   "execution_count": 2,
   "id": "8925a839-a162-4114-bfe7-6bb6c274c1e2",
   "metadata": {},
   "outputs": [],
   "source": [
    "import cv2\n",
    "import os\n",
    "from ultralytics import YOLO\n",
    "\n",
    "# Load the trained YOLOv8 model\n",
    "model_path = \"runs/detect/medical_form_yolo_star_bh_cnam_30_epoch8/weights/best.pt\"\n",
    "model = YOLO(model_path)\n",
    "\n",
    "# Define class names (must match the order in data.yaml)\n",
    "class_names = [\n",
    "    \"nom et prenom de adherent\",\n",
    "    \"matricule cnam\",\n",
    "    \"matricule de adherent\",\n",
    "    \"addresse de ladherent\",\n",
    "    \"numero cin ou passeport\",\n",
    "    \"nom et prenom du malade\",\n",
    "    \"date de naissance\",\n",
    "    \"date\",\n",
    "    \"designation\",\n",
    "    \"honoraire\",\n",
    "    \"id\"\n",
    "]\n",
    "\n"
   ]
  },
  {
   "cell_type": "markdown",
   "id": "77385b9b-978d-4041-a31f-04749598728b",
   "metadata": {},
   "source": [
    "## predicting bounding boxes"
   ]
  },
  {
   "cell_type": "code",
   "execution_count": 3,
   "id": "27d4fb05-e424-41c3-8afb-7f140dda3a6c",
   "metadata": {
    "scrolled": true
   },
   "outputs": [
    {
     "name": "stdout",
     "output_type": "stream",
     "text": [
      "\n",
      "0: 480x640 2 nom et prenom de adherents, 1 matricule de adherent, 1 addresse de ladherent, 2 nom et prenom du malades, 1 date de naissance, 1 id, 91.0ms\n",
      "Speed: 3.0ms preprocess, 91.0ms inference, 1.0ms postprocess per image at shape (1, 3, 480, 640)\n"
     ]
    }
   ],
   "source": [
    "# Path to the new image for prediction\n",
    "image_path = \"dataset/images/test/cnam_front_V9THV6.jpg\"  # Replace with the path to your new image\n",
    "image = cv2.imread(image_path)\n",
    "if image is None:\n",
    "    raise FileNotFoundError(f\"Could not load image at {image_path}\")\n",
    "\n",
    "# Run inference\n",
    "results = model(image, imgsz=640, device=None)  # Use GPU (device=0); set to None for CPU\n"
   ]
  },
  {
   "cell_type": "markdown",
   "id": "54d0141b-4d1e-4307-af65-65e41957f9df",
   "metadata": {},
   "source": [
    "## saving predictions in a folder named predictions"
   ]
  },
  {
   "cell_type": "code",
   "execution_count": 4,
   "id": "7ce3f34e-cbe6-4b87-933b-89f023627e56",
   "metadata": {},
   "outputs": [
    {
     "name": "stdout",
     "output_type": "stream",
     "text": [
      "Confidence is : 0.9657264351844788\n",
      "Saved cropped region to predictions\\id_1.jpg\n",
      "Confidence is : 0.9542441964149475\n",
      "Saved cropped region to predictions\\matricule_de_adherent_2.jpg\n",
      "Confidence is : 0.9476297497749329\n",
      "Saved cropped region to predictions\\date_de_naissance_3.jpg\n",
      "Confidence is : 0.9425316452980042\n",
      "Saved cropped region to predictions\\addresse_de_ladherent_4.jpg\n",
      "Confidence is : 0.9274941086769104\n",
      "Saved cropped region to predictions\\nom_et_prenom_de_adherent_5.jpg\n",
      "Confidence is : 0.9231452345848083\n",
      "Saved cropped region to predictions\\nom_et_prenom_de_adherent_6.jpg\n",
      "Confidence is : 0.9180969595909119\n",
      "Saved cropped region to predictions\\nom_et_prenom_du_malade_7.jpg\n",
      "Confidence is : 0.8897681832313538\n",
      "Saved cropped region to predictions\\nom_et_prenom_du_malade_8.jpg\n"
     ]
    }
   ],
   "source": [
    "# Create output folder for annotated images and cropped regions\n",
    "output_folder = \"predictions\"\n",
    "if not os.path.exists(output_folder):\n",
    "    os.makedirs(output_folder)\n",
    "# Process the detected bounding boxes\n",
    "crop_counter = 1\n",
    "for result in results:\n",
    "    boxes = result.boxes.xyxy  # Get bounding boxes in [x_min, y_min, x_max, y_max] format\n",
    "    confidences = result.boxes.conf  # Get confidence scores\n",
    "    class_ids = result.boxes.cls  # Get class IDs\n",
    "\n",
    "    for box, conf, cls_id in zip(boxes, confidences, class_ids):\n",
    "        # Extract bounding box coordinates\n",
    "        x1, y1, x2, y2 = map(int, box)\n",
    "        class_id = int(cls_id)\n",
    "        label = class_names[class_id]\n",
    "        confidence = float(conf)\n",
    "        print (f\"Confidence is : {confidence}\")\n",
    "        # # Apply 20px vertical padding for cropping\n",
    "        # height, width = image.shape[:2]\n",
    "        # padding = 0\n",
    "        # x1 = max(0, x1)\n",
    "        # x2 = min(width, x2)\n",
    "        # y1 = max(0, y1 - padding)\n",
    "        # y2 = min(height, y2 + padding)\n",
    "\n",
    "        # Crop the detected region\n",
    "        if x2 > x1 and y2 > y1:\n",
    "            cropped_image = image[y1:y2, x1:x2]\n",
    "            \n",
    "            # Save the cropped image\n",
    "            output_filename = f\"{label.replace(' ', '_')}_{crop_counter}.jpg\"\n",
    "            output_path = os.path.join(output_folder, output_filename)\n",
    "            cv2.imwrite(output_path, cropped_image)\n",
    "            print(f\"Saved cropped region to {output_path}\")\n",
    "            crop_counter += 1\n",
    "\n",
    "# # Save the annotated image\n",
    "# image_filename = os.path.basename(image_path)\n",
    "# annotated_image_path = os.path.join(output_folder, f\"annotated_{image_filename}\")\n",
    "# cv2.imwrite(annotated_image_path, image)\n",
    "# print(f\"Saved annotated image to {annotated_image_path}\")\n"
   ]
  },
  {
   "cell_type": "markdown",
   "id": "7861ab5f-b003-4d80-8212-bf9bf11b32ea",
   "metadata": {},
   "source": [
    "## extract text using TrOCR"
   ]
  },
  {
   "cell_type": "code",
   "execution_count": 5,
   "id": "6410f6be-1024-47d9-ab17-56af1895c991",
   "metadata": {},
   "outputs": [],
   "source": [
    "import os\n",
    "import cv2\n",
    "import easyocr\n",
    "\n",
    "def detect_and_save_word(image_path, lang='fr', output_dir=\"predictions_cropped\"):\n",
    "    # Load image\n",
    "    img = cv2.imread(image_path)\n",
    "    if img is None:\n",
    "        print(f\"Error: Unable to load image from {image_path}\")\n",
    "        return\n",
    "\n",
    "    # Create EasyOCR reader\n",
    "    reader = easyocr.Reader([lang], gpu=False)\n",
    "\n",
    "    # Run OCR\n",
    "    results = reader.readtext(img, detail=1, paragraph=False)\n",
    "\n",
    "    # Create output dir\n",
    "    os.makedirs(output_dir, exist_ok=True)\n",
    "\n",
    "    if len(results) == 0:\n",
    "        print(\"No text detected.\")\n",
    "        return\n",
    "\n",
    "    # Only process the first detected word\n",
    "    (bbox, text, prob) = results[0]\n",
    "    (top_left, _, bottom_right, _) = bbox\n",
    "    top_left = (int(top_left[0]), int(top_left[1]))\n",
    "    bottom_right = (int(bottom_right[0]), int(bottom_right[1]))\n",
    "\n",
    "    word_img = img[top_left[1]:bottom_right[1], top_left[0]:bottom_right[0]]\n",
    "\n",
    "    if word_img.shape[0] > 0 and word_img.shape[1] > 0:\n",
    "        filename = os.path.splitext(os.path.basename(image_path))[0]\n",
    "        output_path = os.path.join(output_dir, f\"{filename}_cropped.jpg\")\n",
    "        cv2.imwrite(output_path, word_img)\n",
    "        print(f\"Detected word: {text} (Confidence: {prob:.2f})\")\n",
    "        print(f\"Saved to: {output_path}\")\n",
    "    else:\n",
    "        print(\"Detected bounding box was empty.\")\n",
    "\n",
    "\n",
    "\n"
   ]
  },
  {
   "cell_type": "code",
   "execution_count": 6,
   "id": "f9338ac4-4504-4d6f-9d34-cc996de29e9d",
   "metadata": {},
   "outputs": [
    {
     "name": "stderr",
     "output_type": "stream",
     "text": [
      "Using CPU. Note: This module is much faster with a GPU.\n",
      "Using CPU. Note: This module is much faster with a GPU.\n"
     ]
    },
    {
     "name": "stdout",
     "output_type": "stream",
     "text": [
      "Detected word: 16S, (Confidence: 0.33)\n",
      "Saved to: predictions_cropped\\addresse_de_ladherent_4_cropped.jpg\n"
     ]
    },
    {
     "name": "stderr",
     "output_type": "stream",
     "text": [
      "Using CPU. Note: This module is much faster with a GPU.\n"
     ]
    },
    {
     "name": "stdout",
     "output_type": "stream",
     "text": [
      "Detected word: 11 08178} (Confidence: 0.52)\n",
      "Saved to: predictions_cropped\\date_de_naissance_3_cropped.jpg\n"
     ]
    },
    {
     "name": "stderr",
     "output_type": "stream",
     "text": [
      "Using CPU. Note: This module is much faster with a GPU.\n"
     ]
    },
    {
     "name": "stdout",
     "output_type": "stream",
     "text": [
      "Detected word: 01708094 (Confidence: 0.44)\n",
      "Saved to: predictions_cropped\\id_1_cropped.jpg\n"
     ]
    },
    {
     "name": "stderr",
     "output_type": "stream",
     "text": [
      "Using CPU. Note: This module is much faster with a GPU.\n"
     ]
    },
    {
     "name": "stdout",
     "output_type": "stream",
     "text": [
      "Detected word: 40001044 (Confidence: 0.16)\n",
      "Saved to: predictions_cropped\\matricule_de_adherent_2_cropped.jpg\n"
     ]
    },
    {
     "name": "stderr",
     "output_type": "stream",
     "text": [
      "Using CPU. Note: This module is much faster with a GPU.\n"
     ]
    },
    {
     "name": "stdout",
     "output_type": "stream",
     "text": [
      "Detected word: 5Q/AA (Confidence: 0.31)\n",
      "Saved to: predictions_cropped\\nom_et_prenom_de_adherent_5_cropped.jpg\n"
     ]
    },
    {
     "name": "stderr",
     "output_type": "stream",
     "text": [
      "Using CPU. Note: This module is much faster with a GPU.\n"
     ]
    },
    {
     "name": "stdout",
     "output_type": "stream",
     "text": [
      "Detected word: Bectielou (Confidence: 0.12)\n",
      "Saved to: predictions_cropped\\nom_et_prenom_de_adherent_6_cropped.jpg\n"
     ]
    },
    {
     "name": "stderr",
     "output_type": "stream",
     "text": [
      "Using CPU. Note: This module is much faster with a GPU.\n"
     ]
    },
    {
     "name": "stdout",
     "output_type": "stream",
     "text": [
      "Detected word: re uelou (Confidence: 0.13)\n",
      "Saved to: predictions_cropped\\nom_et_prenom_du_malade_7_cropped.jpg\n",
      "Detected word: Aiha (Confidence: 0.35)\n",
      "Saved to: predictions_cropped\\nom_et_prenom_du_malade_8_cropped.jpg\n"
     ]
    }
   ],
   "source": [
    "# Loop through each file in the folder\n",
    "for filename in os.listdir(\"predictions\"):\n",
    "    if filename.lower().endswith((\".jpg\", \".jpeg\", \".png\", \".bmp\", \".tiff\")):\n",
    "        image_path = os.path.join(\"predictions\", filename)\n",
    "        detect_and_save_word(image_path)"
   ]
  },
  {
   "cell_type": "code",
   "execution_count": null,
   "id": "5637c292-4861-4290-b5e1-5fc37a234f20",
   "metadata": {},
   "outputs": [
    {
     "name": "stderr",
     "output_type": "stream",
     "text": [
      "C:\\Users\\User\\anaconda3\\envs\\medical_form\\lib\\site-packages\\transformers\\tokenization_utils_base.py:1601: FutureWarning: `clean_up_tokenization_spaces` was not set. It will be set to `True` by default. This behavior will be depracted in transformers v4.45, and will be then set to `False` by default. For more details check this issue: https://github.com/huggingface/transformers/issues/31884\n",
      "  warnings.warn(\n",
      "Some weights of VisionEncoderDecoderModel were not initialized from the model checkpoint at microsoft/trocr-large-handwritten and are newly initialized: ['encoder.pooler.dense.bias', 'encoder.pooler.dense.weight']\n",
      "You should probably TRAIN this model on a down-stream task to be able to use it for predictions and inference.\n",
      "C:\\Users\\User\\anaconda3\\envs\\medical_form\\lib\\site-packages\\transformers\\generation\\utils.py:1258: UserWarning: Using the model-agnostic default `max_length` (=20) to control the generation length. We recommend setting `max_new_tokens` to control the maximum length of the generation.\n",
      "  warnings.warn(\n"
     ]
    },
    {
     "data": {
      "image/png": "[encoded data removed]",
      "text/plain": [
       "<Figure size 640x480 with 1 Axes>"
      ]
     },
     "metadata": {},
     "output_type": "display_data"
    },
    {
     "name": "stdout",
     "output_type": "stream",
     "text": [
      "Extracted text from addresse_de_ladherent_4_cropped.jpg: 165,\n"
     ]
    },
    {
     "data": {
      "image/png": "[encoded data removed]",
      "text/plain": [
       "<Figure size 640x480 with 1 Axes>"
      ]
     },
     "metadata": {},
     "output_type": "display_data"
    },
    {
     "name": "stdout",
     "output_type": "stream",
     "text": [
      "Extracted text from date_de_naissance_3_cropped.jpg: 11 08 1987\n"
     ]
    },
    {
     "data": {
      "image/png": "[encoded data removed]",
      "text/plain": [
       "<Figure size 640x480 with 1 Axes>"
      ]
     },
     "metadata": {},
     "output_type": "display_data"
    },
    {
     "name": "stdout",
     "output_type": "stream",
     "text": [
      "Extracted text from id_1_cropped.jpg: 01706094.\n"
     ]
    },
    {
     "data": {
      "image/png": "[encoded data removed]",
      "text/plain": [
       "<Figure size 640x480 with 1 Axes>"
      ]
     },
     "metadata": {},
     "output_type": "display_data"
    },
    {
     "name": "stdout",
     "output_type": "stream",
     "text": [
      "Extracted text from matricule_de_adherent_2_cropped.jpg: 60007047\n"
     ]
    }
   ],
   "source": [
    "import os\n",
    "import json\n",
    "from PIL import Image\n",
    "import matplotlib.pyplot as plt\n",
    "from transformers import TrOCRProcessor, VisionEncoderDecoderModel\n",
    "\n",
    "# Define paths\n",
    "predictions_folder = \"predictions_cropped\"\n",
    "output_json_path = os.path.join(predictions_folder, \"extracted_text.json\")\n",
    "\n",
    "# Load the TrOCR model and processor\n",
    "processor = TrOCRProcessor.from_pretrained(\"microsoft/trocr-large-handwritten\")\n",
    "model = VisionEncoderDecoderModel.from_pretrained(\"microsoft/trocr-large-handwritten\")\n",
    "\n",
    "# Dictionary to store extracted text\n",
    "extracted_texts = {}\n",
    "\n",
    "# Iterate over all images in the predictions folder\n",
    "for image_name in os.listdir(predictions_folder):\n",
    "    if not image_name.lower().endswith((\".jpg\", \".png\", \".jpeg\")):\n",
    "        continue  # Skip non-image files\n",
    "\n",
    "    image_path = os.path.join(predictions_folder, image_name)\n",
    "    \n",
    "    try:\n",
    "        # Load the image\n",
    "        image = Image.open(image_path).convert(\"RGB\")\n",
    "        \n",
    "        # Preprocess the image\n",
    "        pixel_values = processor(images=image, return_tensors=\"pt\").pixel_values\n",
    "\n",
    "        # Generate text\n",
    "        generated_ids = model.generate(pixel_values)\n",
    "\n",
    "        # Decode the generated IDs to text\n",
    "        predicted_text = processor.batch_decode(generated_ids, skip_special_tokens=True)[0]\n",
    "        \n",
    "        # Save to dictionary\n",
    "        extracted_texts[image_name] = predicted_text\n",
    "\n",
    "        # Display the image with the extracted text as the title\n",
    "        plt.imshow(image)\n",
    "        plt.title(predicted_text, fontsize=12)\n",
    "        plt.axis('off')\n",
    "        plt.show()\n",
    "\n",
    "        print(f\"Extracted text from {image_name}: {predicted_text}\")\n",
    "\n",
    "    except Exception as e:\n",
    "        print(f\"Error processing {image_name}: {str(e)}\")\n",
    "        extracted_texts[image_name] = \"Error: Could not extract text\"\n",
    "\n",
    "# # Save the extracted texts to a JSON file\n",
    "# with open(output_json_path, \"w\", encoding=\"utf-8\") as f:\n",
    "#     json.dump(extracted_texts, f, ensure_ascii=False, indent=4)\n",
    "\n",
    "# print(f\"Saved extracted texts to {output_json_path}\")\n"
   ]
  },
  {
   "cell_type": "code",
   "execution_count": null,
   "id": "cfff59db-49d3-432e-90a8-a487da7b61c9",
   "metadata": {},
   "outputs": [],
   "source": []
  }
 ],
 "metadata": {
  "kernelspec": {
   "display_name": "Python 3 (ipykernel)",
   "language": "python",
   "name": "python3"
  },
  "language_info": {
   "codemirror_mode": {
    "name": "ipython",
    "version": 3
   },
   "file_extension": ".py",
   "mimetype": "text/x-python",
   "name": "python",
   "nbconvert_exporter": "python",
   "pygments_lexer": "ipython3",
   "version": "3.10.16"
  }
 },
 "nbformat": 4,
 "nbformat_minor": 5
}
